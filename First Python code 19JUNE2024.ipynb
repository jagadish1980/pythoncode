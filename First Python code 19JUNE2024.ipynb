{
  "nbformat": 4,
  "nbformat_minor": 0,
  "metadata": {
    "colab": {
      "provenance": [],
      "authorship_tag": "ABX9TyOZ+QHXCTV4xAF7CrGkk3P0",
      "include_colab_link": true
    },
    "kernelspec": {
      "name": "python3",
      "display_name": "Python 3"
    },
    "language_info": {
      "name": "python"
    }
  },
  "cells": [
    {
      "cell_type": "markdown",
      "metadata": {
        "id": "view-in-github",
        "colab_type": "text"
      },
      "source": [
        "<a href=\"https://colab.research.google.com/github/jagadish1980/pythoncode/blob/PythonBranch1/First%20Python%20code%2019JUNE2024.ipynb\" target=\"_parent\"><img src=\"https://colab.research.google.com/assets/colab-badge.svg\" alt=\"Open In Colab\"/></a>"
      ]
    },
    {
      "cell_type": "code",
      "execution_count": null,
      "metadata": {
        "id": "ighHajzGZyal"
      },
      "outputs": [],
      "source": [
        "f = open(\"demofile3.txt\", \"w\")\n",
        "f.write(\"Woops! I have deleted the content!\")\n",
        "f.close()\n",
        "\n",
        "#open and read the file after the overwriting:\n",
        "f = open(\"demofile3.txt\", \"r\")\n",
        "print(f.read())"
      ]
    },
    {
      "cell_type": "code",
      "source": [
        "x = int(input(\"Enter a number: \"))\n",
        "x += 20\n",
        "print(x)"
      ],
      "metadata": {
        "id": "cQeseBofbF4S"
      },
      "execution_count": null,
      "outputs": []
    },
    {
      "cell_type": "code",
      "source": [
        "p = 2\n",
        "m = p\n",
        "p = \"etc\"\n",
        "print(p)"
      ],
      "metadata": {
        "id": "_Q0PUkVDcAL1"
      },
      "execution_count": null,
      "outputs": []
    },
    {
      "cell_type": "code",
      "source": [
        "f = open(\"demofile3.txt\", \"r\")\n",
        "print(f.read())"
      ],
      "metadata": {
        "id": "zX7os3A4idrB"
      },
      "execution_count": null,
      "outputs": []
    },
    {
      "cell_type": "code",
      "source": [
        "def mystery(x):\n",
        "    if x > 0:  # Indent this line\n",
        "        return mystery(x - 1)  # Indent this line\n",
        "    else:  # Indent this line\n",
        "        return 0  # Indent this line\n",
        "\n",
        "result = mystery(5)\n",
        "print(result)"
      ],
      "metadata": {
        "id": "UjdvaNihJ_e3"
      },
      "execution_count": null,
      "outputs": []
    }
  ]
}